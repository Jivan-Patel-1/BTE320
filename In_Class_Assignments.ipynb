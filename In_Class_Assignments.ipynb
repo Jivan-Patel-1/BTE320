{
  "nbformat": 4,
  "nbformat_minor": 0,
  "metadata": {
    "colab": {
      "provenance": [],
      "authorship_tag": "ABX9TyOLxGfrTjK7k/LXeSc412xM",
      "include_colab_link": true
    },
    "kernelspec": {
      "name": "python3",
      "display_name": "Python 3"
    },
    "language_info": {
      "name": "python"
    }
  },
  "cells": [
    {
      "cell_type": "markdown",
      "metadata": {
        "id": "view-in-github",
        "colab_type": "text"
      },
      "source": [
        "<a href=\"https://colab.research.google.com/github/Jivan-Patel-1/BTE320/blob/main/In_Class_Assignments.ipynb\" target=\"_parent\"><img src=\"https://colab.research.google.com/assets/colab-badge.svg\" alt=\"Open In Colab\"/></a>"
      ]
    },
    {
      "cell_type": "code",
      "execution_count": null,
      "metadata": {
        "colab": {
          "base_uri": "https://localhost:8080/"
        },
        "id": "an9XkPOiaOWs",
        "outputId": "d843268c-1dbf-442d-dbae-f8b683bc9a4c"
      },
      "outputs": [
        {
          "output_type": "stream",
          "name": "stdout",
          "text": [
            "Enter sales ($): 12000\n",
            "Sales: $12000.0\n",
            "Enter tax rate (%):30\n",
            "Tax rate: 30.0%\n",
            "Cost of goods sold: $4800.0\n",
            "Gross profit: $7200.0\n",
            "Taxes: $2160.0\n",
            "Net income: $5040.0\n"
          ]
        }
      ],
      "source": [
        "# Sales\n",
        "sales = float(input(\"Enter sales ($): \"))\n",
        "print(f\"Sales: ${sales}\")\n",
        "\n",
        "# Tax rate\n",
        "tax_rate = float(input(\"Enter tax rate (%):\"))\n",
        "print(f\"Tax rate: {tax_rate}%\")\n",
        "\n",
        "# Cost of Goods Sold\n",
        "cogs = .40\n",
        "cogs_sold = sales * cogs\n",
        "print(f\"Cost of goods sold: ${cogs_sold}\")\n",
        "\n",
        "# Gross Profit\n",
        "gp = sales - cogs_sold\n",
        "print(f\"Gross profit: ${gp}\")\n",
        "\n",
        "# Taxes\n",
        "taxes = gp * (tax_rate / 100)\n",
        "print(f\"Taxes: ${taxes}\")\n",
        "\n",
        "# Net income\n",
        "net_income = gp - taxes\n",
        "print(f\"Net income: ${net_income}\")"
      ]
    },
    {
      "cell_type": "code",
      "source": [
        "annual_demand = int(input(\"Enter the annual demand (units/year):\"))\n",
        "\n",
        "reorder_cost = float(input(\"Enter the reorder cost ($/units):\"))\n",
        "\n",
        "holding_cost = float(input(\"Enter the holding cost ($/units/year):\"))\n",
        "\n",
        "economic_order_quantity = ((2 * annual_demand * reorder_cost)/ holding_cost) ** 0.5\n",
        "\n",
        "print(f\"Economic Order Quantity is {economic_order_quantity} units\")"
      ],
      "metadata": {
        "colab": {
          "base_uri": "https://localhost:8080/"
        },
        "id": "OLCRJ0Z0ogtZ",
        "outputId": "df3fb285-aeda-42da-f7e4-0040b86e33b8"
      },
      "execution_count": null,
      "outputs": [
        {
          "output_type": "stream",
          "name": "stdout",
          "text": [
            "Enter the annual demand (units/year):100\n",
            "Enter the reorder cost ($/units):1.5\n",
            "Enter the holding cost ($/units/year):3\n",
            "Economic Order Quantity is 10.0 units\n"
          ]
        }
      ]
    },
    {
      "cell_type": "code",
      "source": [
        "number_1 = float(input(\"Enter the first number: \"))\n",
        "number_2 = float(input(\"Enter the second number: \"))\n",
        "operator = input(\"Enter one of these numerical operators (+, -, *, /, //, **, %): \")\n",
        "\n",
        "if operator == \"+\":\n",
        "    print(f\"{number_1} + {number_2} = {number_1 + number_2}.\")\n",
        "elif operator == \"-\":\n",
        "  print(f\"{number_1} - {number_2} = {number_1 - number_2}.\")\n",
        "elif operator == \"*\":\n",
        "  print(f\"{number_1} * {number_2} = {number_1 * number_2}.\")\n",
        "elif operator == \"/\":\n",
        "  print(f\"{number_1} / {number_2} = {number_1 / number_2}.\")\n",
        "elif operator == \"%\":\n",
        "  print(f\"{number_1} % {number_2} = {number_1 % number_2}.\")\n",
        "elif operator == \"**\":\n",
        "  print(f\"{number_1} ** {number_2} = {number_1 ** number_2}.\")\n",
        "elif operator == \"//\":\n",
        "  print(f\"{number_1} // {number_2} = {number_1 // number_2}.\")\n",
        "else:\n",
        "    print(\"Invalid numerical operator\")\n"
      ],
      "metadata": {
        "id": "nL9XSPwVbBCV",
        "colab": {
          "base_uri": "https://localhost:8080/"
        },
        "outputId": "55562a8e-a87a-4c1e-958b-5d8a7859de36"
      },
      "execution_count": null,
      "outputs": [
        {
          "output_type": "stream",
          "name": "stdout",
          "text": [
            "Enter the first number: 14\n",
            "Enter the second number: 5\n",
            "Enter one of these numerical operators (+, -, *, /, //, **, %): *\n",
            "14.0 * 5.0 = 70.0.\n"
          ]
        }
      ]
    },
    {
      "cell_type": "code",
      "source": [
        "print(\"# of hours\\tFee\")\n",
        "for hours in range(1,9):\n",
        "  fee = 5 + hours * 2.5\n",
        "  if fee < 10:\n",
        "    fee = 10.0\n",
        "    print(f\"{hours}\\t\\t{fee}\")\n",
        "  elif fee > 20:\n",
        "    fee = 20.0\n",
        "    print(f\"{hours}\\t\\t{fee}\")\n",
        "  else:\n",
        "    print (f\"{hours}\\t\\t{fee}\")"
      ],
      "metadata": {
        "colab": {
          "base_uri": "https://localhost:8080/"
        },
        "id": "-ZL46Q-Yec0C",
        "outputId": "42d6d91e-57d6-4f4e-a7cb-cf13683ac23f"
      },
      "execution_count": 13,
      "outputs": [
        {
          "output_type": "stream",
          "name": "stdout",
          "text": [
            "# of hours\tFee\n",
            "1\t\t10.0\n",
            "2\t\t10.0\n",
            "3\t\t12.5\n",
            "4\t\t15.0\n",
            "5\t\t17.5\n",
            "6\t\t20.0\n",
            "7\t\t20.0\n",
            "8\t\t20.0\n"
          ]
        }
      ]
    }
  ]
}