{
  "nbformat": 4,
  "nbformat_minor": 0,
  "metadata": {
    "colab": {
      "provenance": [],
      "authorship_tag": "ABX9TyNB6aKDV6mQO2IqC8Tr61na",
      "include_colab_link": true
    },
    "kernelspec": {
      "name": "python3",
      "display_name": "Python 3"
    },
    "language_info": {
      "name": "python"
    }
  },
  "cells": [
    {
      "cell_type": "markdown",
      "metadata": {
        "id": "view-in-github",
        "colab_type": "text"
      },
      "source": [
        "<a href=\"https://colab.research.google.com/github/Jivan-Patel-1/BTE320/blob/main/In_Class_Assignments.ipynb\" target=\"_parent\"><img src=\"https://colab.research.google.com/assets/colab-badge.svg\" alt=\"Open In Colab\"/></a>"
      ]
    },
    {
      "cell_type": "code",
      "execution_count": 14,
      "metadata": {
        "colab": {
          "base_uri": "https://localhost:8080/"
        },
        "id": "an9XkPOiaOWs",
        "outputId": "d843268c-1dbf-442d-dbae-f8b683bc9a4c"
      },
      "outputs": [
        {
          "output_type": "stream",
          "name": "stdout",
          "text": [
            "Enter sales ($): 12000\n",
            "Sales: $12000.0\n",
            "Enter tax rate (%):30\n",
            "Tax rate: 30.0%\n",
            "Cost of goods sold: $4800.0\n",
            "Gross profit: $7200.0\n",
            "Taxes: $2160.0\n",
            "Net income: $5040.0\n"
          ]
        }
      ],
      "source": [
        "# Sales\n",
        "sales = float(input(\"Enter sales ($): \"))\n",
        "print(f\"Sales: ${sales}\")\n",
        "\n",
        "# Tax rate\n",
        "tax_rate = float(input(\"Enter tax rate (%):\"))\n",
        "print(f\"Tax rate: {tax_rate}%\")\n",
        "\n",
        "# Cost of Goods Sold\n",
        "cogs = .40\n",
        "cogs_sold = sales * cogs\n",
        "print(f\"Cost of goods sold: ${cogs_sold}\")\n",
        "\n",
        "# Gross Profit\n",
        "gp = sales - cogs_sold\n",
        "print(f\"Gross profit: ${gp}\")\n",
        "\n",
        "# Taxes\n",
        "taxes = gp * (tax_rate / 100)\n",
        "print(f\"Taxes: ${taxes}\")\n",
        "\n",
        "# Net income\n",
        "net_income = gp - taxes\n",
        "print(f\"Net income: ${net_income}\")"
      ]
    }
  ]
}